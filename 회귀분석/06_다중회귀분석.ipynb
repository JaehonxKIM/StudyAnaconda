{
 "cells": [
  {
   "cell_type": "code",
   "execution_count": 1,
   "id": "4468540d",
   "metadata": {},
   "outputs": [],
   "source": [
    "import pandas as pd\n",
    "import numpy as np\n",
    "import matplotlib.pyplot as plt\n",
    "import seaborn as sns"
   ]
  },
  {
   "cell_type": "code",
   "execution_count": 2,
   "id": "2277b710",
   "metadata": {},
   "outputs": [],
   "source": [
    "df = pd.read_csv(\"./files_new/auto_mpg_v2.csv\")"
   ]
  },
  {
   "cell_type": "code",
   "execution_count": 3,
   "id": "f48e16ca",
   "metadata": {},
   "outputs": [
    {
     "data": {
      "text/html": [
       "<div>\n",
       "<style scoped>\n",
       "    .dataframe tbody tr th:only-of-type {\n",
       "        vertical-align: middle;\n",
       "    }\n",
       "\n",
       "    .dataframe tbody tr th {\n",
       "        vertical-align: top;\n",
       "    }\n",
       "\n",
       "    .dataframe thead th {\n",
       "        text-align: right;\n",
       "    }\n",
       "</style>\n",
       "<table border=\"1\" class=\"dataframe\">\n",
       "  <thead>\n",
       "    <tr style=\"text-align: right;\">\n",
       "      <th></th>\n",
       "      <th>mpg</th>\n",
       "      <th>cylinders</th>\n",
       "      <th>horsepower</th>\n",
       "      <th>weight</th>\n",
       "    </tr>\n",
       "  </thead>\n",
       "  <tbody>\n",
       "    <tr>\n",
       "      <th>0</th>\n",
       "      <td>18.0</td>\n",
       "      <td>8</td>\n",
       "      <td>130.0</td>\n",
       "      <td>3504.0</td>\n",
       "    </tr>\n",
       "    <tr>\n",
       "      <th>1</th>\n",
       "      <td>15.0</td>\n",
       "      <td>8</td>\n",
       "      <td>165.0</td>\n",
       "      <td>3693.0</td>\n",
       "    </tr>\n",
       "    <tr>\n",
       "      <th>2</th>\n",
       "      <td>18.0</td>\n",
       "      <td>8</td>\n",
       "      <td>150.0</td>\n",
       "      <td>3436.0</td>\n",
       "    </tr>\n",
       "    <tr>\n",
       "      <th>3</th>\n",
       "      <td>16.0</td>\n",
       "      <td>8</td>\n",
       "      <td>150.0</td>\n",
       "      <td>3433.0</td>\n",
       "    </tr>\n",
       "    <tr>\n",
       "      <th>4</th>\n",
       "      <td>17.0</td>\n",
       "      <td>8</td>\n",
       "      <td>140.0</td>\n",
       "      <td>3449.0</td>\n",
       "    </tr>\n",
       "    <tr>\n",
       "      <th>...</th>\n",
       "      <td>...</td>\n",
       "      <td>...</td>\n",
       "      <td>...</td>\n",
       "      <td>...</td>\n",
       "    </tr>\n",
       "    <tr>\n",
       "      <th>387</th>\n",
       "      <td>27.0</td>\n",
       "      <td>4</td>\n",
       "      <td>86.0</td>\n",
       "      <td>2790.0</td>\n",
       "    </tr>\n",
       "    <tr>\n",
       "      <th>388</th>\n",
       "      <td>44.0</td>\n",
       "      <td>4</td>\n",
       "      <td>52.0</td>\n",
       "      <td>2130.0</td>\n",
       "    </tr>\n",
       "    <tr>\n",
       "      <th>389</th>\n",
       "      <td>32.0</td>\n",
       "      <td>4</td>\n",
       "      <td>84.0</td>\n",
       "      <td>2295.0</td>\n",
       "    </tr>\n",
       "    <tr>\n",
       "      <th>390</th>\n",
       "      <td>28.0</td>\n",
       "      <td>4</td>\n",
       "      <td>79.0</td>\n",
       "      <td>2625.0</td>\n",
       "    </tr>\n",
       "    <tr>\n",
       "      <th>391</th>\n",
       "      <td>31.0</td>\n",
       "      <td>4</td>\n",
       "      <td>82.0</td>\n",
       "      <td>2720.0</td>\n",
       "    </tr>\n",
       "  </tbody>\n",
       "</table>\n",
       "<p>392 rows × 4 columns</p>\n",
       "</div>"
      ],
      "text/plain": [
       "      mpg  cylinders  horsepower  weight\n",
       "0    18.0          8       130.0  3504.0\n",
       "1    15.0          8       165.0  3693.0\n",
       "2    18.0          8       150.0  3436.0\n",
       "3    16.0          8       150.0  3433.0\n",
       "4    17.0          8       140.0  3449.0\n",
       "..    ...        ...         ...     ...\n",
       "387  27.0          4        86.0  2790.0\n",
       "388  44.0          4        52.0  2130.0\n",
       "389  32.0          4        84.0  2295.0\n",
       "390  28.0          4        79.0  2625.0\n",
       "391  31.0          4        82.0  2720.0\n",
       "\n",
       "[392 rows x 4 columns]"
      ]
     },
     "execution_count": 3,
     "metadata": {},
     "output_type": "execute_result"
    }
   ],
   "source": [
    "ndf = df[[\"mpg\",\"cylinders\",\"horsepower\",\"weight\"]]\n",
    "ndf"
   ]
  },
  {
   "cell_type": "code",
   "execution_count": 4,
   "id": "01bf6be2",
   "metadata": {},
   "outputs": [],
   "source": [
    "x = ndf[[\"cylinders\",\"horsepower\",\"weight\"]]\n",
    "y = ndf[\"mpg\"]         "
   ]
  },
  {
   "cell_type": "code",
   "execution_count": 5,
   "id": "d89154c8",
   "metadata": {},
   "outputs": [],
   "source": [
    "from sklearn.model_selection import train_test_split"
   ]
  },
  {
   "cell_type": "code",
   "execution_count": 6,
   "id": "e981dc34",
   "metadata": {},
   "outputs": [],
   "source": [
    "x_train, x_test, y_train, y_test = train_test_split(x,\n",
    "                                                    y,\n",
    "                                                    test_size = 0.3,\n",
    "                                                    random_state = 10)"
   ]
  },
  {
   "cell_type": "code",
   "execution_count": 7,
   "id": "4d38c618",
   "metadata": {},
   "outputs": [],
   "source": [
    "# 선형회귀분석 모듈\n",
    "from sklearn.linear_model import LinearRegression"
   ]
  },
  {
   "cell_type": "code",
   "execution_count": 8,
   "id": "96820e61",
   "metadata": {},
   "outputs": [],
   "source": [
    "lr = LinearRegression()"
   ]
  },
  {
   "cell_type": "code",
   "execution_count": 9,
   "id": "d141bfe6",
   "metadata": {},
   "outputs": [
    {
     "data": {
      "text/plain": [
       "LinearRegression()"
      ]
     },
     "execution_count": 9,
     "metadata": {},
     "output_type": "execute_result"
    }
   ],
   "source": [
    "lr.fit(x_train , y_train)"
   ]
  },
  {
   "cell_type": "code",
   "execution_count": 10,
   "id": "ffb6f255",
   "metadata": {},
   "outputs": [
    {
     "data": {
      "text/plain": [
       "0.6939048496695597"
      ]
     },
     "execution_count": 10,
     "metadata": {},
     "output_type": "execute_result"
    }
   ],
   "source": [
    "lr.score(x_test, y_test)"
   ]
  },
  {
   "cell_type": "code",
   "execution_count": 11,
   "id": "78fc16fd",
   "metadata": {},
   "outputs": [],
   "source": [
    "y_hat = lr.predict(x_test)"
   ]
  },
  {
   "cell_type": "code",
   "execution_count": 12,
   "id": "35e2d7ed",
   "metadata": {},
   "outputs": [
    {
     "data": {
      "text/plain": [
       "array([26.30243119, 27.67960352, 20.35480988, 32.5663334 , 15.05079818,\n",
       "       18.65250234, 16.5189694 ,  8.21482855, 30.00898418, 28.56105525,\n",
       "       21.63593175, 22.17449944, 26.73546308, 27.06911576, 13.10907653,\n",
       "       16.81024194, 24.07783306, 29.38394295, 11.27643241, 10.64851363,\n",
       "       12.83398787, 30.95656774, 23.11048993, 14.9956607 , 16.14345244,\n",
       "        9.63707709, 19.31184005, 30.31070208, 22.37815073, 25.60054305,\n",
       "       22.17386758, 22.66539802, 27.34304014, 24.03375623, 23.58227736,\n",
       "       30.06694949, 31.83692148, 20.6513051 , 16.26186076, 26.65768848,\n",
       "       22.66017535, 23.58573705, 30.31476048, 24.14617908, 23.74689385,\n",
       "       11.7401859 , 14.8546484 , 31.8171619 , 22.76694089, 29.65204595,\n",
       "       28.81465448, 11.37686071, 23.72676593, 13.75497533, 16.3454236 ,\n",
       "       23.8068028 , 23.83990186, 29.99153659, 30.15796496, 26.51261777,\n",
       "       31.02273271, 27.92508595, 20.72312738, 23.67799884, 26.50273798,\n",
       "       32.31273417,  9.89019362, 25.48444753, 23.64014488, 14.31205545,\n",
       "       10.87368749, 29.35262346, 25.75065578, 30.7807431 , 29.89694625,\n",
       "       24.8482802 , 21.93884707, 13.90004603, 32.09399697, 31.0529045 ,\n",
       "       31.23569823, 11.40759807, 26.00887899, 11.99835939, 16.63669615,\n",
       "       28.04984809, 19.89923947, 21.6724905 , 25.62476251, 28.62025112,\n",
       "       29.91201557, 15.36068259, 31.27051055, 30.89216576, 13.03133507,\n",
       "       28.7653384 , 27.10510894, 13.85942889, 19.78128236, 29.59399778,\n",
       "       30.99370862, 27.38478842, 28.8221071 , 23.31823277, 26.10483083,\n",
       "       28.92784013, 31.22872913, 14.29933126, 28.24064343,  9.4710991 ,\n",
       "       10.86563698, 20.80783794, 23.44650431, 31.23569823, 26.8004472 ,\n",
       "       16.40989187, 28.06781153, 20.10046442])"
      ]
     },
     "execution_count": 12,
     "metadata": {},
     "output_type": "execute_result"
    }
   ],
   "source": [
    "y_hat"
   ]
  },
  {
   "cell_type": "code",
   "execution_count": 13,
   "id": "ee233599",
   "metadata": {},
   "outputs": [
    {
     "data": {
      "image/png": "[encoded data removed]",
      "text/plain": [
       "<Figure size 720x360 with 1 Axes>"
      ]
     },
     "metadata": {
      "needs_background": "light"
     },
     "output_type": "display_data"
    }
   ],
   "source": [
    "plt.figure(figsize = (10,5))\n",
    "ax1 = sns.kdeplot(y, label = \"y\")\n",
    "ax2 = sns.kdeplot(y_hat, label = \"y_hat\", ax = ax1)\n",
    "\n",
    "plt.legend()\n",
    "plt.show()"
   ]
  },
  {
   "cell_type": "code",
   "execution_count": null,
   "id": "63cd481d",
   "metadata": {},
   "outputs": [],
   "source": []
  }
 ],
 "metadata": {
  "kernelspec": {
   "display_name": "Python 3 (ipykernel)",
   "language": "python",
   "name": "python3"
  },
  "language_info": {
   "codemirror_mode": {
    "name": "ipython",
    "version": 3
   },
   "file_extension": ".py",
   "mimetype": "text/x-python",
   "name": "python",
   "nbconvert_exporter": "python",
   "pygments_lexer": "ipython3",
   "version": "3.9.7"
  }
 },
 "nbformat": 4,
 "nbformat_minor": 5
}
