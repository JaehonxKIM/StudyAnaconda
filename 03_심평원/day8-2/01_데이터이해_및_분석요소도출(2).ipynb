{
 "cells": [
  {
   "cell_type": "markdown",
   "id": "453477b2",
   "metadata": {},
   "source": [
    "# txt 파일 읽어 들이기"
   ]
  },
  {
   "cell_type": "code",
   "execution_count": 1,
   "id": "c373519e",
   "metadata": {},
   "outputs": [],
   "source": [
    "import pandas as pd"
   ]
  },
  {
   "cell_type": "code",
   "execution_count": 5,
   "id": "478483d5",
   "metadata": {},
   "outputs": [
    {
     "data": {
      "text/html": [
       "<div>\n",
       "<style scoped>\n",
       "    .dataframe tbody tr th:only-of-type {\n",
       "        vertical-align: middle;\n",
       "    }\n",
       "\n",
       "    .dataframe tbody tr th {\n",
       "        vertical-align: top;\n",
       "    }\n",
       "\n",
       "    .dataframe thead th {\n",
       "        text-align: right;\n",
       "    }\n",
       "</style>\n",
       "<table border=\"1\" class=\"dataframe\">\n",
       "  <thead>\n",
       "    <tr style=\"text-align: right;\">\n",
       "      <th></th>\n",
       "      <th>key</th>\n",
       "      <th>no</th>\n",
       "      <th>DMD_FRM_CD</th>\n",
       "      <th>DMD_TP_CD</th>\n",
       "      <th>FOM_CD</th>\n",
       "      <th>AGG</th>\n",
       "      <th>SelectionProb</th>\n",
       "      <th>SamplingWeight</th>\n",
       "      <th>PAT_AGE</th>\n",
       "      <th>SEX_TP_CD</th>\n",
       "      <th>...</th>\n",
       "      <th>VST_DDCNT</th>\n",
       "      <th>RVD_RPE_TAMT_AMT</th>\n",
       "      <th>RVD_SLF_BRDN_AMT</th>\n",
       "      <th>RVD_INSUP_BRDN_AMT</th>\n",
       "      <th>SOPR_YN</th>\n",
       "      <th>PRCL_SYM_TP_CD</th>\n",
       "      <th>MAIDCL_CD</th>\n",
       "      <th>RADT_DIAG_YN</th>\n",
       "      <th>RADT_TRET_YN</th>\n",
       "      <th>yno</th>\n",
       "    </tr>\n",
       "  </thead>\n",
       "  <tbody>\n",
       "    <tr>\n",
       "      <th>0</th>\n",
       "      <td>1</td>\n",
       "      <td>169</td>\n",
       "      <td>3</td>\n",
       "      <td>0</td>\n",
       "      <td>3</td>\n",
       "      <td>13</td>\n",
       "      <td>0.030001</td>\n",
       "      <td>33.332599</td>\n",
       "      <td>62.0</td>\n",
       "      <td>1</td>\n",
       "      <td>...</td>\n",
       "      <td>1</td>\n",
       "      <td>9430</td>\n",
       "      <td>2800</td>\n",
       "      <td>6630</td>\n",
       "      <td>0</td>\n",
       "      <td>$</td>\n",
       "      <td>$</td>\n",
       "      <td>$</td>\n",
       "      <td>$</td>\n",
       "      <td>30796</td>\n",
       "    </tr>\n",
       "  </tbody>\n",
       "</table>\n",
       "<p>1 rows × 32 columns</p>\n",
       "</div>"
      ],
      "text/plain": [
       "   key   no  DMD_FRM_CD  DMD_TP_CD  FOM_CD  AGG  SelectionProb  \\\n",
       "0    1  169           3          0       3   13       0.030001   \n",
       "\n",
       "   SamplingWeight  PAT_AGE  SEX_TP_CD  ...  VST_DDCNT RVD_RPE_TAMT_AMT  \\\n",
       "0       33.332599     62.0          1  ...          1             9430   \n",
       "\n",
       "  RVD_SLF_BRDN_AMT  RVD_INSUP_BRDN_AMT  SOPR_YN  PRCL_SYM_TP_CD  MAIDCL_CD  \\\n",
       "0             2800                6630        0               $          $   \n",
       "\n",
       "  RADT_DIAG_YN  RADT_TRET_YN    yno  \n",
       "0            $             $  30796  \n",
       "\n",
       "[1 rows x 32 columns]"
      ]
     },
     "execution_count": 5,
     "metadata": {},
     "output_type": "execute_result"
    }
   ],
   "source": [
    "# 20Table\n",
    "df_20TABLE = pd.read_csv(\"./files_org/SAMPLE_DB_20TABLE_2013.txt\", sep=\",\")\n",
    "df_20TABLE.head(1)"
   ]
  },
  {
   "cell_type": "code",
   "execution_count": 6,
   "id": "fd0664c5",
   "metadata": {},
   "outputs": [
    {
     "data": {
      "text/html": [
       "<div>\n",
       "<style scoped>\n",
       "    .dataframe tbody tr th:only-of-type {\n",
       "        vertical-align: middle;\n",
       "    }\n",
       "\n",
       "    .dataframe tbody tr th {\n",
       "        vertical-align: top;\n",
       "    }\n",
       "\n",
       "    .dataframe thead th {\n",
       "        text-align: right;\n",
       "    }\n",
       "</style>\n",
       "<table border=\"1\" class=\"dataframe\">\n",
       "  <thead>\n",
       "    <tr style=\"text-align: right;\">\n",
       "      <th></th>\n",
       "      <th>key</th>\n",
       "      <th>CZ_CD</th>\n",
       "      <th>ITEM_CD</th>\n",
       "      <th>DIV_TY_CD</th>\n",
       "      <th>DIV_CD</th>\n",
       "      <th>SP1_SP2_TP_CD</th>\n",
       "      <th>UNPRC</th>\n",
       "      <th>FQ1_MDCT_QTY</th>\n",
       "      <th>DY1_MDCT_QTY</th>\n",
       "      <th>DY1_INJC_QTY_EXEC_FQ</th>\n",
       "      <th>TOT_INJC_DDCNT_EXEC_FQ</th>\n",
       "      <th>TOT_USE_QTY_OR_EXEC_FQ</th>\n",
       "      <th>AMT</th>\n",
       "      <th>ADDC_ADT_AMT</th>\n",
       "      <th>LN_NO</th>\n",
       "      <th>GNL_NM_CD</th>\n",
       "    </tr>\n",
       "  </thead>\n",
       "  <tbody>\n",
       "    <tr>\n",
       "      <th>0</th>\n",
       "      <td>1</td>\n",
       "      <td>01</td>\n",
       "      <td>2</td>\n",
       "      <td>1</td>\n",
       "      <td>AA254</td>\n",
       "      <td>1</td>\n",
       "      <td>9430</td>\n",
       "      <td>1.0</td>\n",
       "      <td>1.0</td>\n",
       "      <td>1.0</td>\n",
       "      <td>1</td>\n",
       "      <td>1.0</td>\n",
       "      <td>9430</td>\n",
       "      <td>9430</td>\n",
       "      <td>1</td>\n",
       "      <td>$</td>\n",
       "    </tr>\n",
       "  </tbody>\n",
       "</table>\n",
       "</div>"
      ],
      "text/plain": [
       "   key CZ_CD  ITEM_CD  DIV_TY_CD DIV_CD  SP1_SP2_TP_CD  UNPRC  FQ1_MDCT_QTY  \\\n",
       "0    1    01        2          1  AA254              1   9430           1.0   \n",
       "\n",
       "   DY1_MDCT_QTY  DY1_INJC_QTY_EXEC_FQ  TOT_INJC_DDCNT_EXEC_FQ  \\\n",
       "0           1.0                   1.0                       1   \n",
       "\n",
       "   TOT_USE_QTY_OR_EXEC_FQ   AMT  ADDC_ADT_AMT  LN_NO GNL_NM_CD  \n",
       "0                     1.0  9430          9430      1         $  "
      ]
     },
     "execution_count": 6,
     "metadata": {},
     "output_type": "execute_result"
    }
   ],
   "source": [
    "# df_30TABLE\n",
    "df_30TABLE = pd.read_csv(\"./files_org/SAMPLE_DB_30TABLE_2013.txt\", sep=\",\")\n",
    "df_30TABLE.head(1)"
   ]
  },
  {
   "cell_type": "code",
   "execution_count": 7,
   "id": "768a10b9",
   "metadata": {},
   "outputs": [
    {
     "data": {
      "text/html": [
       "<div>\n",
       "<style scoped>\n",
       "    .dataframe tbody tr th:only-of-type {\n",
       "        vertical-align: middle;\n",
       "    }\n",
       "\n",
       "    .dataframe tbody tr th {\n",
       "        vertical-align: top;\n",
       "    }\n",
       "\n",
       "    .dataframe thead th {\n",
       "        text-align: right;\n",
       "    }\n",
       "</style>\n",
       "<table border=\"1\" class=\"dataframe\">\n",
       "  <thead>\n",
       "    <tr style=\"text-align: right;\">\n",
       "      <th></th>\n",
       "      <th>key</th>\n",
       "      <th>SICK_SNO</th>\n",
       "      <th>SICK_DGSBJT_CD</th>\n",
       "      <th>DMD_SICK_SYM</th>\n",
       "      <th>DMD_DGSBJT_CD</th>\n",
       "    </tr>\n",
       "  </thead>\n",
       "  <tbody>\n",
       "    <tr>\n",
       "      <th>0</th>\n",
       "      <td>1</td>\n",
       "      <td>3</td>\n",
       "      <td>01</td>\n",
       "      <td>K599</td>\n",
       "      <td>1</td>\n",
       "    </tr>\n",
       "  </tbody>\n",
       "</table>\n",
       "</div>"
      ],
      "text/plain": [
       "   key  SICK_SNO SICK_DGSBJT_CD DMD_SICK_SYM  DMD_DGSBJT_CD\n",
       "0    1         3             01         K599              1"
      ]
     },
     "execution_count": 7,
     "metadata": {},
     "output_type": "execute_result"
    }
   ],
   "source": [
    "# df_40TABLE\n",
    "df_40TABLE = pd.read_csv(\"./files_org/SAMPLE_DB_40TABLE_2013.txt\", sep=\",\")\n",
    "df_40TABLE.head(1)"
   ]
  },
  {
   "cell_type": "code",
   "execution_count": 8,
   "id": "9edcd3eb",
   "metadata": {},
   "outputs": [
    {
     "data": {
      "text/html": [
       "<div>\n",
       "<style scoped>\n",
       "    .dataframe tbody tr th:only-of-type {\n",
       "        vertical-align: middle;\n",
       "    }\n",
       "\n",
       "    .dataframe tbody tr th {\n",
       "        vertical-align: top;\n",
       "    }\n",
       "\n",
       "    .dataframe thead th {\n",
       "        text-align: right;\n",
       "    }\n",
       "</style>\n",
       "<table border=\"1\" class=\"dataframe\">\n",
       "  <thead>\n",
       "    <tr style=\"text-align: right;\">\n",
       "      <th></th>\n",
       "      <th>key</th>\n",
       "      <th>LN_NO</th>\n",
       "      <th>PRSCP_GRANT_NO</th>\n",
       "      <th>DIV_TY_CD</th>\n",
       "      <th>UNPRC</th>\n",
       "      <th>FQ1_MDCT_QTY</th>\n",
       "      <th>DY1_MDCT_QTY</th>\n",
       "      <th>TOT_INJC_DDCNT_EXEC_FQ</th>\n",
       "      <th>TOT_USE_QTY_OR_EXEC_FQ</th>\n",
       "      <th>AMT</th>\n",
       "      <th>GNL_NM_CD</th>\n",
       "    </tr>\n",
       "  </thead>\n",
       "  <tbody>\n",
       "    <tr>\n",
       "      <th>0</th>\n",
       "      <td>1</td>\n",
       "      <td>4</td>\n",
       "      <td>2013010801012</td>\n",
       "      <td>3</td>\n",
       "      <td>80</td>\n",
       "      <td>1.0</td>\n",
       "      <td>3.0</td>\n",
       "      <td>3</td>\n",
       "      <td>9.0</td>\n",
       "      <td>720</td>\n",
       "      <td>294300ACS</td>\n",
       "    </tr>\n",
       "  </tbody>\n",
       "</table>\n",
       "</div>"
      ],
      "text/plain": [
       "   key  LN_NO  PRSCP_GRANT_NO  DIV_TY_CD  UNPRC  FQ1_MDCT_QTY  DY1_MDCT_QTY  \\\n",
       "0    1      4   2013010801012          3     80           1.0           3.0   \n",
       "\n",
       "   TOT_INJC_DDCNT_EXEC_FQ  TOT_USE_QTY_OR_EXEC_FQ  AMT  GNL_NM_CD  \n",
       "0                       3                     9.0  720  294300ACS  "
      ]
     },
     "execution_count": 8,
     "metadata": {},
     "output_type": "execute_result"
    }
   ],
   "source": [
    "# df_53ABLE\n",
    "df_53TABLE = pd.read_csv(\"./files_org/SAMPLE_DB_53TABLE_2013.txt\", sep=\",\")\n",
    "df_53TABLE.head(1)"
   ]
  },
  {
   "cell_type": "markdown",
   "id": "081d97e9",
   "metadata": {},
   "source": [
    "# 메타정의서 컬럼명 가지고 오기"
   ]
  },
  {
   "cell_type": "code",
   "execution_count": 11,
   "id": "8eea9eff",
   "metadata": {},
   "outputs": [
    {
     "data": {
      "text/html": [
       "<div>\n",
       "<style scoped>\n",
       "    .dataframe tbody tr th:only-of-type {\n",
       "        vertical-align: middle;\n",
       "    }\n",
       "\n",
       "    .dataframe tbody tr th {\n",
       "        vertical-align: top;\n",
       "    }\n",
       "\n",
       "    .dataframe thead th {\n",
       "        text-align: right;\n",
       "    }\n",
       "</style>\n",
       "<table border=\"1\" class=\"dataframe\">\n",
       "  <thead>\n",
       "    <tr style=\"text-align: right;\">\n",
       "      <th></th>\n",
       "      <th>변수명</th>\n",
       "      <th>표준한글컬럼명</th>\n",
       "    </tr>\n",
       "  </thead>\n",
       "  <tbody>\n",
       "    <tr>\n",
       "      <th>0</th>\n",
       "      <td>key</td>\n",
       "      <td>명세서 연결코드</td>\n",
       "    </tr>\n",
       "  </tbody>\n",
       "</table>\n",
       "</div>"
      ],
      "text/plain": [
       "   변수명   표준한글컬럼명\n",
       "0  key  명세서 연결코드"
      ]
     },
     "execution_count": 11,
     "metadata": {},
     "output_type": "execute_result"
    }
   ],
   "source": [
    "df_20TABLE_col = pd.read_excel(\"./files_org/표본자료 변수 테이블(2012-2013).xlsx\", \n",
    "                               sheet_name = \"20table_명세서일반내역\",\n",
    "                               usecols = \"A, D\")\n",
    "df_20TABLE_col.head(1)"
   ]
  },
  {
   "cell_type": "code",
   "execution_count": null,
   "id": "6c3f01d5",
   "metadata": {},
   "outputs": [],
   "source": [
    "# df_30TABLE_col, df_30TABLE_col, df_53TABLE_col 모두 가지고 오기.."
   ]
  },
  {
   "cell_type": "code",
   "execution_count": 12,
   "id": "1e8c5ba4",
   "metadata": {},
   "outputs": [
    {
     "data": {
      "text/html": [
       "<div>\n",
       "<style scoped>\n",
       "    .dataframe tbody tr th:only-of-type {\n",
       "        vertical-align: middle;\n",
       "    }\n",
       "\n",
       "    .dataframe tbody tr th {\n",
       "        vertical-align: top;\n",
       "    }\n",
       "\n",
       "    .dataframe thead th {\n",
       "        text-align: right;\n",
       "    }\n",
       "</style>\n",
       "<table border=\"1\" class=\"dataframe\">\n",
       "  <thead>\n",
       "    <tr style=\"text-align: right;\">\n",
       "      <th></th>\n",
       "      <th>변수명</th>\n",
       "      <th>표준한글컬럼명</th>\n",
       "    </tr>\n",
       "  </thead>\n",
       "  <tbody>\n",
       "    <tr>\n",
       "      <th>0</th>\n",
       "      <td>key</td>\n",
       "      <td>명세서 연결코드</td>\n",
       "    </tr>\n",
       "  </tbody>\n",
       "</table>\n",
       "</div>"
      ],
      "text/plain": [
       "   변수명   표준한글컬럼명\n",
       "0  key  명세서 연결코드"
      ]
     },
     "execution_count": 12,
     "metadata": {},
     "output_type": "execute_result"
    }
   ],
   "source": [
    "df_30TABLE_col = pd.read_excel(\"./files_org/표본자료 변수 테이블(2012-2013).xlsx\", \n",
    "                               sheet_name = \"30table_진료내역\",\n",
    "                               usecols = \"A, D\")\n",
    "df_30TABLE_col.head(1)"
   ]
  },
  {
   "cell_type": "code",
   "execution_count": 13,
   "id": "b200915d",
   "metadata": {},
   "outputs": [
    {
     "data": {
      "text/html": [
       "<div>\n",
       "<style scoped>\n",
       "    .dataframe tbody tr th:only-of-type {\n",
       "        vertical-align: middle;\n",
       "    }\n",
       "\n",
       "    .dataframe tbody tr th {\n",
       "        vertical-align: top;\n",
       "    }\n",
       "\n",
       "    .dataframe thead th {\n",
       "        text-align: right;\n",
       "    }\n",
       "</style>\n",
       "<table border=\"1\" class=\"dataframe\">\n",
       "  <thead>\n",
       "    <tr style=\"text-align: right;\">\n",
       "      <th></th>\n",
       "      <th>변수명</th>\n",
       "      <th>표준한글컬럼명</th>\n",
       "    </tr>\n",
       "  </thead>\n",
       "  <tbody>\n",
       "    <tr>\n",
       "      <th>0</th>\n",
       "      <td>key</td>\n",
       "      <td>명세서 연결코드</td>\n",
       "    </tr>\n",
       "  </tbody>\n",
       "</table>\n",
       "</div>"
      ],
      "text/plain": [
       "   변수명   표준한글컬럼명\n",
       "0  key  명세서 연결코드"
      ]
     },
     "execution_count": 13,
     "metadata": {},
     "output_type": "execute_result"
    }
   ],
   "source": [
    "df_40TABLE_col = pd.read_excel(\"./files_org/표본자료 변수 테이블(2012-2013).xlsx\", \n",
    "                               sheet_name = \"40table_상병\",\n",
    "                               usecols = \"A, D\")\n",
    "df_40TABLE_col.head(1)"
   ]
  },
  {
   "cell_type": "code",
   "execution_count": 14,
   "id": "4764d8dd",
   "metadata": {},
   "outputs": [
    {
     "data": {
      "text/html": [
       "<div>\n",
       "<style scoped>\n",
       "    .dataframe tbody tr th:only-of-type {\n",
       "        vertical-align: middle;\n",
       "    }\n",
       "\n",
       "    .dataframe tbody tr th {\n",
       "        vertical-align: top;\n",
       "    }\n",
       "\n",
       "    .dataframe thead th {\n",
       "        text-align: right;\n",
       "    }\n",
       "</style>\n",
       "<table border=\"1\" class=\"dataframe\">\n",
       "  <thead>\n",
       "    <tr style=\"text-align: right;\">\n",
       "      <th></th>\n",
       "      <th>변수명</th>\n",
       "      <th>표준한글컬럼명</th>\n",
       "    </tr>\n",
       "  </thead>\n",
       "  <tbody>\n",
       "    <tr>\n",
       "      <th>0</th>\n",
       "      <td>key</td>\n",
       "      <td>명세서 연결코드</td>\n",
       "    </tr>\n",
       "  </tbody>\n",
       "</table>\n",
       "</div>"
      ],
      "text/plain": [
       "   변수명   표준한글컬럼명\n",
       "0  key  명세서 연결코드"
      ]
     },
     "execution_count": 14,
     "metadata": {},
     "output_type": "execute_result"
    }
   ],
   "source": [
    "df_53TABLE_col = pd.read_excel(\"./files_org/표본자료 변수 테이블(2012-2013).xlsx\", \n",
    "                               sheet_name = \"53table_처방전상세내역\",\n",
    "                               usecols = \"A, D\")\n",
    "df_53TABLE_col.head(1)"
   ]
  },
  {
   "cell_type": "code",
   "execution_count": 15,
   "id": "bdcc2aa8",
   "metadata": {},
   "outputs": [
    {
     "data": {
      "text/html": [
       "<div>\n",
       "<style scoped>\n",
       "    .dataframe tbody tr th:only-of-type {\n",
       "        vertical-align: middle;\n",
       "    }\n",
       "\n",
       "    .dataframe tbody tr th {\n",
       "        vertical-align: top;\n",
       "    }\n",
       "\n",
       "    .dataframe thead th {\n",
       "        text-align: right;\n",
       "    }\n",
       "</style>\n",
       "<table border=\"1\" class=\"dataframe\">\n",
       "  <thead>\n",
       "    <tr style=\"text-align: right;\">\n",
       "      <th></th>\n",
       "      <th>key</th>\n",
       "      <th>no</th>\n",
       "      <th>DMD_FRM_CD</th>\n",
       "      <th>DMD_TP_CD</th>\n",
       "      <th>FOM_CD</th>\n",
       "      <th>AGG</th>\n",
       "      <th>SelectionProb</th>\n",
       "      <th>SamplingWeight</th>\n",
       "      <th>PAT_AGE</th>\n",
       "      <th>SEX_TP_CD</th>\n",
       "      <th>...</th>\n",
       "      <th>VST_DDCNT</th>\n",
       "      <th>RVD_RPE_TAMT_AMT</th>\n",
       "      <th>RVD_SLF_BRDN_AMT</th>\n",
       "      <th>RVD_INSUP_BRDN_AMT</th>\n",
       "      <th>SOPR_YN</th>\n",
       "      <th>PRCL_SYM_TP_CD</th>\n",
       "      <th>MAIDCL_CD</th>\n",
       "      <th>RADT_DIAG_YN</th>\n",
       "      <th>RADT_TRET_YN</th>\n",
       "      <th>yno</th>\n",
       "    </tr>\n",
       "  </thead>\n",
       "  <tbody>\n",
       "    <tr>\n",
       "      <th>0</th>\n",
       "      <td>1</td>\n",
       "      <td>169</td>\n",
       "      <td>3</td>\n",
       "      <td>0</td>\n",
       "      <td>3</td>\n",
       "      <td>13</td>\n",
       "      <td>0.030001</td>\n",
       "      <td>33.332599</td>\n",
       "      <td>62.0</td>\n",
       "      <td>1</td>\n",
       "      <td>...</td>\n",
       "      <td>1</td>\n",
       "      <td>9430</td>\n",
       "      <td>2800</td>\n",
       "      <td>6630</td>\n",
       "      <td>0</td>\n",
       "      <td>$</td>\n",
       "      <td>$</td>\n",
       "      <td>$</td>\n",
       "      <td>$</td>\n",
       "      <td>30796</td>\n",
       "    </tr>\n",
       "  </tbody>\n",
       "</table>\n",
       "<p>1 rows × 32 columns</p>\n",
       "</div>"
      ],
      "text/plain": [
       "   key   no  DMD_FRM_CD  DMD_TP_CD  FOM_CD  AGG  SelectionProb  \\\n",
       "0    1  169           3          0       3   13       0.030001   \n",
       "\n",
       "   SamplingWeight  PAT_AGE  SEX_TP_CD  ...  VST_DDCNT RVD_RPE_TAMT_AMT  \\\n",
       "0       33.332599     62.0          1  ...          1             9430   \n",
       "\n",
       "  RVD_SLF_BRDN_AMT  RVD_INSUP_BRDN_AMT  SOPR_YN  PRCL_SYM_TP_CD  MAIDCL_CD  \\\n",
       "0             2800                6630        0               $          $   \n",
       "\n",
       "  RADT_DIAG_YN  RADT_TRET_YN    yno  \n",
       "0            $             $  30796  \n",
       "\n",
       "[1 rows x 32 columns]"
      ]
     },
     "execution_count": 15,
     "metadata": {},
     "output_type": "execute_result"
    }
   ],
   "source": [
    "df_20TABLE.head(1)"
   ]
  },
  {
   "cell_type": "code",
   "execution_count": 18,
   "id": "fee0866b",
   "metadata": {},
   "outputs": [],
   "source": [
    "#df_20TABLE.rename(columns = 딕셔너리_데이터)"
   ]
  },
  {
   "cell_type": "code",
   "execution_count": 24,
   "id": "7f7cab4e",
   "metadata": {},
   "outputs": [
    {
     "name": "stdout",
     "output_type": "stream",
     "text": [
      "{'key1': 'value1', 'key2': 'value2', 'key3': 'value3'}\n"
     ]
    },
    {
     "data": {
      "text/plain": [
       "'value2'"
      ]
     },
     "execution_count": 24,
     "metadata": {},
     "output_type": "execute_result"
    }
   ],
   "source": [
    "temp_dict = {}\n",
    "temp_dict[\"key1\"] = \"value1\"\n",
    "temp_dict[\"key2\"] = \"value2\"\n",
    "temp_dict[\"key3\"] = \"value3\"\n",
    "print(temp_dict)\n",
    "\n",
    "temp_dict[\"key2\"]"
   ]
  },
  {
   "cell_type": "code",
   "execution_count": 32,
   "id": "5b10d35d",
   "metadata": {},
   "outputs": [
    {
     "data": {
      "text/html": [
       "<div>\n",
       "<style scoped>\n",
       "    .dataframe tbody tr th:only-of-type {\n",
       "        vertical-align: middle;\n",
       "    }\n",
       "\n",
       "    .dataframe tbody tr th {\n",
       "        vertical-align: top;\n",
       "    }\n",
       "\n",
       "    .dataframe thead th {\n",
       "        text-align: right;\n",
       "    }\n",
       "</style>\n",
       "<table border=\"1\" class=\"dataframe\">\n",
       "  <thead>\n",
       "    <tr style=\"text-align: right;\">\n",
       "      <th></th>\n",
       "      <th>명세서 연결코드</th>\n",
       "      <th>수진자고유번호</th>\n",
       "      <th>청구형태코드</th>\n",
       "      <th>청구구분코드</th>\n",
       "      <th>서식코드</th>\n",
       "      <th>연령군</th>\n",
       "      <th>추출확률</th>\n",
       "      <th>샘플가중치</th>\n",
       "      <th>수진자연령</th>\n",
       "      <th>성별구분코드</th>\n",
       "      <th>...</th>\n",
       "      <th>내원일수</th>\n",
       "      <th>심결요양급여비용총액</th>\n",
       "      <th>심결본인부담금</th>\n",
       "      <th>심결보험자부담금</th>\n",
       "      <th>수술여부</th>\n",
       "      <th>특정기호구분코드</th>\n",
       "      <th>의료급여종별코드</th>\n",
       "      <th>방사선진단여부</th>\n",
       "      <th>방사선치료여부</th>\n",
       "      <th>요양기관 고유번호</th>\n",
       "    </tr>\n",
       "  </thead>\n",
       "  <tbody>\n",
       "    <tr>\n",
       "      <th>0</th>\n",
       "      <td>1</td>\n",
       "      <td>169</td>\n",
       "      <td>3</td>\n",
       "      <td>0</td>\n",
       "      <td>3</td>\n",
       "      <td>13</td>\n",
       "      <td>0.030001</td>\n",
       "      <td>33.332599</td>\n",
       "      <td>62.0</td>\n",
       "      <td>1</td>\n",
       "      <td>...</td>\n",
       "      <td>1</td>\n",
       "      <td>9430</td>\n",
       "      <td>2800</td>\n",
       "      <td>6630</td>\n",
       "      <td>0</td>\n",
       "      <td>$</td>\n",
       "      <td>$</td>\n",
       "      <td>$</td>\n",
       "      <td>$</td>\n",
       "      <td>30796</td>\n",
       "    </tr>\n",
       "  </tbody>\n",
       "</table>\n",
       "<p>1 rows × 32 columns</p>\n",
       "</div>"
      ],
      "text/plain": [
       "   명세서 연결코드  수진자고유번호  청구형태코드  청구구분코드  서식코드  연령군      추출확률      샘플가중치  수진자연령  \\\n",
       "0         1      169       3       0     3   13  0.030001  33.332599   62.0   \n",
       "\n",
       "   성별구분코드  ...  내원일수 심결요양급여비용총액 심결본인부담금  심결보험자부담금  수술여부  특정기호구분코드  의료급여종별코드  \\\n",
       "0       1  ...     1       9430    2800      6630     0         $         $   \n",
       "\n",
       "  방사선진단여부  방사선치료여부 요양기관 고유번호  \n",
       "0       $        $     30796  \n",
       "\n",
       "[1 rows x 32 columns]"
      ]
     },
     "execution_count": 32,
     "metadata": {},
     "output_type": "execute_result"
    }
   ],
   "source": [
    "df_20TABLE_col_list = df_20TABLE_col.to_dict(\"records\")\n",
    "# {'변수명': 'key', '표준한글컬럼명': '명세서 연결코드'}\n",
    "\n",
    "new_dict_20 = {}\n",
    "# {key' :'명세서 연결코드'}\n",
    "\n",
    "for dict_kv in df_20TABLE_col_list :\n",
    "    new_dict_20[dict_kv[\"변수명\"]] = dict_kv[\"표준한글컬럼명\"]\n",
    "    \n",
    "# new_dict_20\n",
    "df_20TABLE_kor = df_20TABLE.rename(columns = new_dict_20)\n",
    "df_20TABLE_kor.head(1)"
   ]
  },
  {
   "cell_type": "code",
   "execution_count": 33,
   "id": "26131bed",
   "metadata": {},
   "outputs": [
    {
     "data": {
      "text/html": [
       "<div>\n",
       "<style scoped>\n",
       "    .dataframe tbody tr th:only-of-type {\n",
       "        vertical-align: middle;\n",
       "    }\n",
       "\n",
       "    .dataframe tbody tr th {\n",
       "        vertical-align: top;\n",
       "    }\n",
       "\n",
       "    .dataframe thead th {\n",
       "        text-align: right;\n",
       "    }\n",
       "</style>\n",
       "<table border=\"1\" class=\"dataframe\">\n",
       "  <thead>\n",
       "    <tr style=\"text-align: right;\">\n",
       "      <th></th>\n",
       "      <th>명세서 연결코드</th>\n",
       "      <th>항코드</th>\n",
       "      <th>목코드</th>\n",
       "      <th>분류유형코드</th>\n",
       "      <th>분류코드</th>\n",
       "      <th>1_2구분코드</th>\n",
       "      <th>단가</th>\n",
       "      <th>1회투약량</th>\n",
       "      <th>1일투약량</th>\n",
       "      <th>1일투여량실시횟수</th>\n",
       "      <th>총투여일수또는실시횟수</th>\n",
       "      <th>총사용량또는실시횟수</th>\n",
       "      <th>금액</th>\n",
       "      <th>가산적용금액</th>\n",
       "      <th>줄번호</th>\n",
       "      <th>일반명코드</th>\n",
       "    </tr>\n",
       "  </thead>\n",
       "  <tbody>\n",
       "    <tr>\n",
       "      <th>0</th>\n",
       "      <td>1</td>\n",
       "      <td>01</td>\n",
       "      <td>2</td>\n",
       "      <td>1</td>\n",
       "      <td>AA254</td>\n",
       "      <td>1</td>\n",
       "      <td>9430</td>\n",
       "      <td>1.0</td>\n",
       "      <td>1.0</td>\n",
       "      <td>1.0</td>\n",
       "      <td>1</td>\n",
       "      <td>1.0</td>\n",
       "      <td>9430</td>\n",
       "      <td>9430</td>\n",
       "      <td>1</td>\n",
       "      <td>$</td>\n",
       "    </tr>\n",
       "  </tbody>\n",
       "</table>\n",
       "</div>"
      ],
      "text/plain": [
       "   명세서 연결코드 항코드  목코드  분류유형코드   분류코드  1_2구분코드    단가  1회투약량  1일투약량  1일투여량실시횟수  \\\n",
       "0         1  01    2       1  AA254        1  9430    1.0    1.0        1.0   \n",
       "\n",
       "   총투여일수또는실시횟수  총사용량또는실시횟수    금액  가산적용금액  줄번호 일반명코드  \n",
       "0            1         1.0  9430    9430    1     $  "
      ]
     },
     "execution_count": 33,
     "metadata": {},
     "output_type": "execute_result"
    }
   ],
   "source": [
    "df_30TABLE_col_list = df_30TABLE_col.to_dict(\"records\")\n",
    "# {'변수명': 'key', '표준한글컬럼명': '명세서 연결코드'}\n",
    "\n",
    "new_dict_30 = {}\n",
    "# {key' :'명세서 연결코드'}\n",
    "\n",
    "for dict_kv in df_30TABLE_col_list :\n",
    "    new_dict_30[dict_kv[\"변수명\"]] = dict_kv[\"표준한글컬럼명\"]\n",
    "    \n",
    "# new_dict_20\n",
    "df_30TABLE_kor = df_30TABLE.rename(columns = new_dict_30)\n",
    "df_30TABLE_kor.head(1)"
   ]
  },
  {
   "cell_type": "code",
   "execution_count": 35,
   "id": "727c387a",
   "metadata": {},
   "outputs": [
    {
     "data": {
      "text/html": [
       "<div>\n",
       "<style scoped>\n",
       "    .dataframe tbody tr th:only-of-type {\n",
       "        vertical-align: middle;\n",
       "    }\n",
       "\n",
       "    .dataframe tbody tr th {\n",
       "        vertical-align: top;\n",
       "    }\n",
       "\n",
       "    .dataframe thead th {\n",
       "        text-align: right;\n",
       "    }\n",
       "</style>\n",
       "<table border=\"1\" class=\"dataframe\">\n",
       "  <thead>\n",
       "    <tr style=\"text-align: right;\">\n",
       "      <th></th>\n",
       "      <th>명세서 연결코드</th>\n",
       "      <th>상병일련번호</th>\n",
       "      <th>상병진료과목코드</th>\n",
       "      <th>청구상병기호</th>\n",
       "      <th>청구진료과목코드</th>\n",
       "    </tr>\n",
       "  </thead>\n",
       "  <tbody>\n",
       "    <tr>\n",
       "      <th>0</th>\n",
       "      <td>1</td>\n",
       "      <td>3</td>\n",
       "      <td>01</td>\n",
       "      <td>K599</td>\n",
       "      <td>1</td>\n",
       "    </tr>\n",
       "  </tbody>\n",
       "</table>\n",
       "</div>"
      ],
      "text/plain": [
       "   명세서 연결코드  상병일련번호 상병진료과목코드 청구상병기호  청구진료과목코드\n",
       "0         1       3       01   K599         1"
      ]
     },
     "execution_count": 35,
     "metadata": {},
     "output_type": "execute_result"
    }
   ],
   "source": [
    "df_40TABLE_col_list = df_40TABLE_col.to_dict(\"records\")\n",
    "# {'변수명': 'key', '표준한글컬럼명': '명세서 연결코드'}\n",
    "\n",
    "new_dict_40 = {}\n",
    "# {key' :'명세서 연결코드'}\n",
    "\n",
    "for dict_kv in df_40TABLE_col_list :\n",
    "    new_dict_40[dict_kv[\"변수명\"]] = dict_kv[\"표준한글컬럼명\"]\n",
    "    \n",
    "# new_dict_20\n",
    "df_40TABLE_kor = df_40TABLE.rename(columns = new_dict_40)\n",
    "df_40TABLE_kor.head(1)"
   ]
  },
  {
   "cell_type": "code",
   "execution_count": 36,
   "id": "66791939",
   "metadata": {},
   "outputs": [
    {
     "data": {
      "text/html": [
       "<div>\n",
       "<style scoped>\n",
       "    .dataframe tbody tr th:only-of-type {\n",
       "        vertical-align: middle;\n",
       "    }\n",
       "\n",
       "    .dataframe tbody tr th {\n",
       "        vertical-align: top;\n",
       "    }\n",
       "\n",
       "    .dataframe thead th {\n",
       "        text-align: right;\n",
       "    }\n",
       "</style>\n",
       "<table border=\"1\" class=\"dataframe\">\n",
       "  <thead>\n",
       "    <tr style=\"text-align: right;\">\n",
       "      <th></th>\n",
       "      <th>명세서 연결코드</th>\n",
       "      <th>줄번호</th>\n",
       "      <th>처방전교부번호</th>\n",
       "      <th>분류유형코드</th>\n",
       "      <th>단가</th>\n",
       "      <th>1회투약량</th>\n",
       "      <th>1일투약량</th>\n",
       "      <th>총투여일수또는실시횟수</th>\n",
       "      <th>총사용량또는실시횟수</th>\n",
       "      <th>금액</th>\n",
       "      <th>일반명코드</th>\n",
       "    </tr>\n",
       "  </thead>\n",
       "  <tbody>\n",
       "    <tr>\n",
       "      <th>0</th>\n",
       "      <td>1</td>\n",
       "      <td>4</td>\n",
       "      <td>2013010801012</td>\n",
       "      <td>3</td>\n",
       "      <td>80</td>\n",
       "      <td>1.0</td>\n",
       "      <td>3.0</td>\n",
       "      <td>3</td>\n",
       "      <td>9.0</td>\n",
       "      <td>720</td>\n",
       "      <td>294300ACS</td>\n",
       "    </tr>\n",
       "  </tbody>\n",
       "</table>\n",
       "</div>"
      ],
      "text/plain": [
       "   명세서 연결코드  줄번호        처방전교부번호  분류유형코드  단가  1회투약량  1일투약량  총투여일수또는실시횟수  \\\n",
       "0         1    4  2013010801012       3  80    1.0    3.0            3   \n",
       "\n",
       "   총사용량또는실시횟수   금액      일반명코드  \n",
       "0         9.0  720  294300ACS  "
      ]
     },
     "execution_count": 36,
     "metadata": {},
     "output_type": "execute_result"
    }
   ],
   "source": [
    "df_53TABLE_col_list = df_53TABLE_col.to_dict(\"records\")\n",
    "# {'변수명': 'key', '표준한글컬럼명': '명세서 연결코드'}\n",
    "\n",
    "new_dict_53 = {}\n",
    "# {key' :'명세서 연결코드'}\n",
    "\n",
    "for dict_kv in df_53TABLE_col_list :\n",
    "    new_dict_53[dict_kv[\"변수명\"]] = dict_kv[\"표준한글컬럼명\"]\n",
    "    \n",
    "# new_dict_20\n",
    "df_53TABLE_kor = df_53TABLE.rename(columns = new_dict_53)\n",
    "df_53TABLE_kor.head(1)"
   ]
  },
  {
   "cell_type": "code",
   "execution_count": 38,
   "id": "e4774703",
   "metadata": {},
   "outputs": [],
   "source": [
    "df_20TABLE_kor.to_excel(\"./files_new/df_20TABLE_kor_명세서일반내역.xlsx\", index=False)\n",
    "df_30TABLE_kor.to_excel(\"./files_new/df_30TABLE_kor_진료내역.xlsx\", index=False)\n",
    "df_40TABLE_kor.to_excel(\"./files_new/df_40TABLE_kor_상병.xlsx\", index=False)\n",
    "df_53TABLE_kor.to_excel(\"./files_new/df_53TABLE_kor_처방전상세내역.xlsx\", index=False)"
   ]
  },
  {
   "cell_type": "code",
   "execution_count": null,
   "id": "f050affe",
   "metadata": {},
   "outputs": [],
   "source": []
  }
 ],
 "metadata": {
  "kernelspec": {
   "display_name": "Python 3 (ipykernel)",
   "language": "python",
   "name": "python3"
  },
  "language_info": {
   "codemirror_mode": {
    "name": "ipython",
    "version": 3
   },
   "file_extension": ".py",
   "mimetype": "text/x-python",
   "name": "python",
   "nbconvert_exporter": "python",
   "pygments_lexer": "ipython3",
   "version": "3.9.7"
  }
 },
 "nbformat": 4,
 "nbformat_minor": 5
}
