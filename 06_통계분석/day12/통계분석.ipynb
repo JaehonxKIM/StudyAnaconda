{
 "cells": [
  {
   "cell_type": "markdown",
   "id": "a4766338",
   "metadata": {},
   "source": [
    "# 통계분석"
   ]
  },
  {
   "cell_type": "code",
   "execution_count": 2,
   "id": "3eef9fdb",
   "metadata": {},
   "outputs": [],
   "source": [
    "# 사용되는 라이브러리\n",
    "# scipy > stats : t검정에 사용됨..\n",
    "from scipy import stats\n",
    "import numpy"
   ]
  },
  {
   "cell_type": "code",
   "execution_count": 3,
   "id": "7d9f533c",
   "metadata": {},
   "outputs": [
    {
     "data": {
      "text/plain": [
       "array([169, 167, 175, 166, 162, 180, 172, 162, 173, 162, 181, 175, 181,\n",
       "       181, 162, 165, 172, 176, 167, 165])"
      ]
     },
     "execution_count": 3,
     "metadata": {},
     "output_type": "execute_result"
    }
   ],
   "source": [
    "# 학생 키에 대한 데이터 생성하기\n",
    "height_list = numpy.array([169, 167, 175, 166, 162, 180, 172,\n",
    "             162, 173, 162, 181, 175, 181, 181,\n",
    "             162, 165, 172, 176, 167, 165])\n",
    "height_list"
   ]
  },
  {
   "cell_type": "code",
   "execution_count": 4,
   "id": "c4d56325",
   "metadata": {},
   "outputs": [],
   "source": [
    "# t-검정"
   ]
  },
  {
   "cell_type": "code",
   "execution_count": 5,
   "id": "5e412bdd",
   "metadata": {},
   "outputs": [],
   "source": [
    "tTestResult = stats.ttest_1samp(height_list, 170)"
   ]
  },
  {
   "cell_type": "code",
   "execution_count": 6,
   "id": "ef8b2d70",
   "metadata": {},
   "outputs": [
    {
     "data": {
      "text/plain": [
       "Ttest_1sampResult(statistic=0.42270173526659166, pvalue=0.6772582597305596)"
      ]
     },
     "execution_count": 6,
     "metadata": {},
     "output_type": "execute_result"
    }
   ],
   "source": [
    "# statistic = 검정동계량\n",
    "# pvalue(p-value) = 유의수준\n",
    "\n",
    "# 170값 :귀무가설에서 채택한 값 --> 집단의 평균키는 170이다\n",
    "# 대립가설 : 집단의 키 평균은 170이 아니다\n",
    "# t-검정의 목적 : 대립가설이 참인지 확인하는 것\n",
    "# 확인은 => p-value < 0.05 채택 p-value >= 0.05 기각\n",
    "# 채택과 기각은 대립가설을 기준으로 한다\n",
    "\n",
    "tTestResult"
   ]
  },
  {
   "cell_type": "code",
   "execution_count": 7,
   "id": "bb9dcbc4",
   "metadata": {},
   "outputs": [
    {
     "name": "stdout",
     "output_type": "stream",
     "text": [
      "t검정통계량 = 0.423, p-value = 0.677\n"
     ]
    }
   ],
   "source": [
    "print(\"t검정통계량 = %.3f, p-value = %.3f\" % (tTestResult))"
   ]
  },
  {
   "cell_type": "code",
   "execution_count": 8,
   "id": "ceb2242f",
   "metadata": {},
   "outputs": [],
   "source": [
    "# 해석\n",
    "# statistic = 검정통계량 = 정확도\n",
    "# p-value = 유의수준 = 오차\n",
    "# 67.7% 오차이고 정확도는 42.3%이다\n",
    "# t검정통계량 + p-value = 1\n",
    "\n",
    "# t검정을 통한 20개의 표본집단을 분석한 결과\n",
    "# 유의수준 0.05보다 크기때문에\n",
    "# 귀무가설 170의 평균은 아니다."
   ]
  },
  {
   "cell_type": "code",
   "execution_count": 9,
   "id": "d9c7a719",
   "metadata": {},
   "outputs": [],
   "source": [
    "# 두 집단 "
   ]
  },
  {
   "cell_type": "code",
   "execution_count": 10,
   "id": "b921de76",
   "metadata": {},
   "outputs": [],
   "source": [
    "import numpy\n",
    "from scipy import stats"
   ]
  },
  {
   "cell_type": "code",
   "execution_count": 16,
   "id": "29e77b19",
   "metadata": {},
   "outputs": [],
   "source": [
    "groupby1Heights = numpy.array([162, 168, 169, 165, 166, 168,\n",
    "                               162, 172, 157, 173, 158, 169,\n",
    "                               164, 170, 163, 175, 177, 162,\n",
    "                               175, 177])\n",
    "\n",
    "groupby2Heights = numpy.array([180, 181, 163, 164, 174, 169,\n",
    "                               164, 172, 162, 171, 180, 168,\n",
    "                               164, 169, 178, 177, 167, 179,\n",
    "                               172, 169])\n",
    "\n",
    "# 두 집단간 평균 비교\n",
    "tTestResult = stats.ttest_ind(groupby1Heights, groupby2Heights)"
   ]
  },
  {
   "cell_type": "code",
   "execution_count": 17,
   "id": "1c85d68d",
   "metadata": {},
   "outputs": [
    {
     "data": {
      "text/plain": [
       "Ttest_indResult(statistic=-1.8253194633881713, pvalue=0.07582039848129221)"
      ]
     },
     "execution_count": 17,
     "metadata": {},
     "output_type": "execute_result"
    }
   ],
   "source": [
    "tTestResult"
   ]
  },
  {
   "cell_type": "code",
   "execution_count": 18,
   "id": "3d852864",
   "metadata": {},
   "outputs": [],
   "source": [
    "# 대응되는 두 집단..\n",
    "# 가중치 부여된 특정 집단과의 분석"
   ]
  },
  {
   "cell_type": "code",
   "execution_count": 19,
   "id": "5a50c1f8",
   "metadata": {},
   "outputs": [],
   "source": [
    "import numpy \n",
    "from scipy import stats"
   ]
  },
  {
   "cell_type": "code",
   "execution_count": 32,
   "id": "9c80957a",
   "metadata": {},
   "outputs": [],
   "source": [
    "# 20개의 체중 데이터\n",
    "beforeWeights = numpy.array([80, 82, 76, 82, 65, 73, 77,\n",
    "                             78, 61, 81, 80, 70, 60, 83,\n",
    "                             89, 84, 85, 81, 67, 60])\n",
    "\n",
    "# 20개의 랜덤값 생성하기\n",
    "temp_list = []\n",
    "for i in beforeWeights :\n",
    "    temp_list.append( i * numpy.random.normal(0.99, 0.02) )\n",
    "    \n",
    "afterWeights = numpy.array(temp_list)\n",
    "\n",
    "tTestResult = stats.ttest_rel(beforeWeights, afterWeights)"
   ]
  },
  {
   "cell_type": "code",
   "execution_count": 33,
   "id": "2f834cec",
   "metadata": {},
   "outputs": [
    {
     "data": {
      "text/plain": [
       "Ttest_relResult(statistic=2.620943425711786, pvalue=0.01681575111165716)"
      ]
     },
     "execution_count": 33,
     "metadata": {},
     "output_type": "execute_result"
    }
   ],
   "source": [
    "tTestResult"
   ]
  }
 ],
 "metadata": {
  "kernelspec": {
   "display_name": "Python 3 (ipykernel)",
   "language": "python",
   "name": "python3"
  },
  "language_info": {
   "codemirror_mode": {
    "name": "ipython",
    "version": 3
   },
   "file_extension": ".py",
   "mimetype": "text/x-python",
   "name": "python",
   "nbconvert_exporter": "python",
   "pygments_lexer": "ipython3",
   "version": "3.9.7"
  }
 },
 "nbformat": 4,
 "nbformat_minor": 5
}
