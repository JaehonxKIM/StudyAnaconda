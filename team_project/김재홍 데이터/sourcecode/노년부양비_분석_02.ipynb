{
 "cells": [
  {
   "cell_type": "markdown",
   "id": "a50ecfb6",
   "metadata": {},
   "source": [
    "### 노인부양비 분석"
   ]
  },
  {
   "cell_type": "code",
   "execution_count": 15,
   "id": "5139d35e",
   "metadata": {},
   "outputs": [],
   "source": [
    "file_path = \"C:/Users/admin/StudyAnaconda/team_project/김재홍 데이터/데이터프레임/노인부양비1(e-나라지표).csv\"\n",
    "df1 = pd.read_csv(file_path, header = 1)"
   ]
  },
  {
   "cell_type": "code",
   "execution_count": 80,
   "id": "05ee24dd",
   "metadata": {},
   "outputs": [
    {
     "data": {
      "text/html": [
       "<div>\n",
       "<style scoped>\n",
       "    .dataframe tbody tr th:only-of-type {\n",
       "        vertical-align: middle;\n",
       "    }\n",
       "\n",
       "    .dataframe tbody tr th {\n",
       "        vertical-align: top;\n",
       "    }\n",
       "\n",
       "    .dataframe thead th {\n",
       "        text-align: right;\n",
       "    }\n",
       "</style>\n",
       "<table border=\"1\" class=\"dataframe\">\n",
       "  <thead>\n",
       "    <tr style=\"text-align: right;\">\n",
       "      <th></th>\n",
       "      <th>0</th>\n",
       "      <th>년도</th>\n",
       "      <th>노년부양비</th>\n",
       "    </tr>\n",
       "  </thead>\n",
       "  <tbody>\n",
       "    <tr>\n",
       "      <th>0</th>\n",
       "      <td>1</td>\n",
       "      <td>2000</td>\n",
       "      <td>10.1</td>\n",
       "    </tr>\n",
       "    <tr>\n",
       "      <th>1</th>\n",
       "      <td>2</td>\n",
       "      <td>2001</td>\n",
       "      <td>10.5</td>\n",
       "    </tr>\n",
       "    <tr>\n",
       "      <th>2</th>\n",
       "      <td>3</td>\n",
       "      <td>2002</td>\n",
       "      <td>11.0</td>\n",
       "    </tr>\n",
       "    <tr>\n",
       "      <th>3</th>\n",
       "      <td>4</td>\n",
       "      <td>2003</td>\n",
       "      <td>11.5</td>\n",
       "    </tr>\n",
       "    <tr>\n",
       "      <th>4</th>\n",
       "      <td>5</td>\n",
       "      <td>2004</td>\n",
       "      <td>12.0</td>\n",
       "    </tr>\n",
       "  </tbody>\n",
       "</table>\n",
       "</div>"
      ],
      "text/plain": [
       "   0    년도  노년부양비\n",
       "0  1  2000   10.1\n",
       "1  2  2001   10.5\n",
       "2  3  2002   11.0\n",
       "3  4  2003   11.5\n",
       "4  5  2004   12.0"
      ]
     },
     "execution_count": 80,
     "metadata": {},
     "output_type": "execute_result"
    }
   ],
   "source": [
    "df1.head()"
   ]
  },
  {
   "cell_type": "code",
   "execution_count": 16,
   "id": "9ad0ccc1",
   "metadata": {},
   "outputs": [],
   "source": [
    "# 필요없는 컬럼 0 제거\n",
    "df4 = df1.drop(columns=[\"0\"])"
   ]
  },
  {
   "cell_type": "code",
   "execution_count": 17,
   "id": "1fdb5132",
   "metadata": {},
   "outputs": [
    {
     "name": "stdout",
     "output_type": "stream",
     "text": [
      "<class 'pandas.core.frame.DataFrame'>\n",
      "RangeIndex: 61 entries, 0 to 60\n",
      "Data columns (total 2 columns):\n",
      " #   Column  Non-Null Count  Dtype  \n",
      "---  ------  --------------  -----  \n",
      " 0   년도      61 non-null     int64  \n",
      " 1   노년부양비   61 non-null     float64\n",
      "dtypes: float64(1), int64(1)\n",
      "memory usage: 1.1 KB\n"
     ]
    }
   ],
   "source": [
    "df4.info()"
   ]
  },
  {
   "cell_type": "code",
   "execution_count": 18,
   "id": "3861a369",
   "metadata": {},
   "outputs": [
    {
     "name": "stdout",
     "output_type": "stream",
     "text": [
      "      년도  노년부양비\n",
      "0   2000   10.1\n",
      "5   2005   12.5\n",
      "10  2010   14.8\n",
      "15  2015   17.5\n",
      "20  2020   21.7\n",
      "25  2025   29.3\n",
      "30  2030   38.2\n",
      "35  2035   48.4\n",
      "40  2040   60.1\n",
      "45  2045   69.0\n",
      "50  2050   77.6\n",
      "60  2060   91.4\n"
     ]
    }
   ],
   "source": [
    "# 년도 열 중에 2000,2005,2010,2015,2020,2025,2030,2035,2040,2045,2050,2060 이 포함된 것만 뽑아서 print\n",
    "isin_filter = df4['년도'].isin([2000,2005,2010,2015,2020,2025,2030,2035,2040,2045,2050,2060])\n",
    "df_old5 = df4[isin_filter]\n",
    "print(df_old5)"
   ]
  },
  {
   "cell_type": "code",
   "execution_count": 19,
   "id": "4759c5a4",
   "metadata": {},
   "outputs": [
    {
     "data": {
      "text/html": [
       "<div>\n",
       "<style scoped>\n",
       "    .dataframe tbody tr th:only-of-type {\n",
       "        vertical-align: middle;\n",
       "    }\n",
       "\n",
       "    .dataframe tbody tr th {\n",
       "        vertical-align: top;\n",
       "    }\n",
       "\n",
       "    .dataframe thead th {\n",
       "        text-align: right;\n",
       "    }\n",
       "</style>\n",
       "<table border=\"1\" class=\"dataframe\">\n",
       "  <thead>\n",
       "    <tr style=\"text-align: right;\">\n",
       "      <th></th>\n",
       "      <th>년도</th>\n",
       "      <th>노년부양비</th>\n",
       "    </tr>\n",
       "  </thead>\n",
       "  <tbody>\n",
       "    <tr>\n",
       "      <th>0</th>\n",
       "      <td>2000</td>\n",
       "      <td>10.1</td>\n",
       "    </tr>\n",
       "    <tr>\n",
       "      <th>5</th>\n",
       "      <td>2005</td>\n",
       "      <td>12.5</td>\n",
       "    </tr>\n",
       "    <tr>\n",
       "      <th>10</th>\n",
       "      <td>2010</td>\n",
       "      <td>14.8</td>\n",
       "    </tr>\n",
       "    <tr>\n",
       "      <th>15</th>\n",
       "      <td>2015</td>\n",
       "      <td>17.5</td>\n",
       "    </tr>\n",
       "    <tr>\n",
       "      <th>20</th>\n",
       "      <td>2020</td>\n",
       "      <td>21.7</td>\n",
       "    </tr>\n",
       "    <tr>\n",
       "      <th>25</th>\n",
       "      <td>2025</td>\n",
       "      <td>29.3</td>\n",
       "    </tr>\n",
       "    <tr>\n",
       "      <th>30</th>\n",
       "      <td>2030</td>\n",
       "      <td>38.2</td>\n",
       "    </tr>\n",
       "    <tr>\n",
       "      <th>35</th>\n",
       "      <td>2035</td>\n",
       "      <td>48.4</td>\n",
       "    </tr>\n",
       "    <tr>\n",
       "      <th>40</th>\n",
       "      <td>2040</td>\n",
       "      <td>60.1</td>\n",
       "    </tr>\n",
       "    <tr>\n",
       "      <th>45</th>\n",
       "      <td>2045</td>\n",
       "      <td>69.0</td>\n",
       "    </tr>\n",
       "    <tr>\n",
       "      <th>50</th>\n",
       "      <td>2050</td>\n",
       "      <td>77.6</td>\n",
       "    </tr>\n",
       "    <tr>\n",
       "      <th>60</th>\n",
       "      <td>2060</td>\n",
       "      <td>91.4</td>\n",
       "    </tr>\n",
       "  </tbody>\n",
       "</table>\n",
       "</div>"
      ],
      "text/plain": [
       "      년도  노년부양비\n",
       "0   2000   10.1\n",
       "5   2005   12.5\n",
       "10  2010   14.8\n",
       "15  2015   17.5\n",
       "20  2020   21.7\n",
       "25  2025   29.3\n",
       "30  2030   38.2\n",
       "35  2035   48.4\n",
       "40  2040   60.1\n",
       "45  2045   69.0\n",
       "50  2050   77.6\n",
       "60  2060   91.4"
      ]
     },
     "execution_count": 19,
     "metadata": {},
     "output_type": "execute_result"
    }
   ],
   "source": [
    "df_old5"
   ]
  },
  {
   "cell_type": "code",
   "execution_count": 20,
   "id": "7776a418",
   "metadata": {},
   "outputs": [],
   "source": [
    "import matplotlib.pyplot as plt"
   ]
  },
  {
   "cell_type": "code",
   "execution_count": 21,
   "id": "c51f0542",
   "metadata": {},
   "outputs": [
    {
     "data": {
      "text/plain": [
       "[<matplotlib.lines.Line2D at 0x15c05e6e910>]"
      ]
     },
     "execution_count": 21,
     "metadata": {},
     "output_type": "execute_result"
    },
    {
     "data": {
      "image/png": "[encoded data removed]",
      "text/plain": [
       "<Figure size 432x288 with 1 Axes>"
      ]
     },
     "metadata": {
      "needs_background": "light"
     },
     "output_type": "display_data"
    }
   ],
   "source": [
    "plt.plot(df_old5[\"년도\"], df_old5[\"노년부양비\"])"
   ]
  },
  {
   "cell_type": "code",
   "execution_count": 22,
   "id": "c735f4cb",
   "metadata": {},
   "outputs": [],
   "source": [
    "import seaborn as sns"
   ]
  },
  {
   "cell_type": "code",
   "execution_count": 23,
   "id": "a0d87b46",
   "metadata": {},
   "outputs": [
    {
     "data": {
      "image/png": "[encoded data removed]",
      "text/plain": [
       "<Figure size 432x288 with 1 Axes>"
      ]
     },
     "metadata": {
      "needs_background": "light"
     },
     "output_type": "display_data"
    }
   ],
   "source": [
    "# 노년부양비 추세 그래프 그리기\n",
    "plt.rcParams['font.family'] = 'Malgun Gothic' # 폰트설정\n",
    "plt.rcParams['axes.unicode_minus'] = False    # 깨짐 방지 \n",
    "ax = sns.barplot(x = \"년도\", y = \"노년부양비\", data = df_old5) # 데이터의 x축과 y축을 각각 설정 \n",
    "plt.ylim([0, 100]) # y축의 범위 0 ~100세 까지\n",
    "ax.set_title(\"미래의 노년부양비\") # 그래프 제목 설정\n",
    "ax.set_xlabel(\"년도\") # x축 이름설정\n",
    "ax.set_ylabel(\"미래의 노년부양비\") # y축 이름설정\n",
    "plt.grid() # 그래프의 그리드 설정(뒤의 바둑판 모양)\n",
    "plt.savefig('노년부양비.png') # 그래프 저장\n",
    "\n",
    "# 노년부양비\n",
    "# 노년부양비 : 생산가능인구(15~64세 인구) 100명이 부양해야 할 65세 인구의 비를 표시\n",
    "# 노년부양비 = (65세 이상인구 / 15세~64세 인구) × 100"
   ]
  },
  {
   "cell_type": "code",
   "execution_count": null,
   "id": "d798b46f",
   "metadata": {},
   "outputs": [],
   "source": []
  }
 ],
 "metadata": {
  "kernelspec": {
   "display_name": "Python 3 (ipykernel)",
   "language": "python",
   "name": "python3"
  },
  "language_info": {
   "codemirror_mode": {
    "name": "ipython",
    "version": 3
   },
   "file_extension": ".py",
   "mimetype": "text/x-python",
   "name": "python",
   "nbconvert_exporter": "python",
   "pygments_lexer": "ipython3",
   "version": "3.9.7"
  }
 },
 "nbformat": 4,
 "nbformat_minor": 5
}
